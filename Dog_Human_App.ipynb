{
 "cells": [
  {
   "cell_type": "markdown",
   "metadata": {},
   "source": [
    "# Artificial Intelligence Nanodegree\n",
    "\n",
    "## Convolutional Neural Networks\n",
    "\n",
    "## Project: Write an Algorithm for a Dog Identification App \n",
    "\n",
    "---\n",
    "\n",
    "In this notebook, some template code has already been provided for you, and you will need to implement additional functionality to successfully complete this project. You will not need to modify the included code beyond what is requested. Sections that begin with **'(IMPLEMENTATION)'** in the header indicate that the following block of code will require additional functionality which you must provide. Instructions will be provided for each section, and the specifics of the implementation are marked in the code block with a 'TODO' statement. Please be sure to read the instructions carefully! \n",
    "\n",
    "> **Note**: Once you have completed all of the code implementations, you need to finalize your work by exporting the iPython Notebook as an HTML document. Before exporting the notebook to html, all of the code cells need to have been run so that reviewers can see the final implementation and output. You can then export the notebook by using the menu above and navigating to  \\n\",\n",
    "    \"**File -> Download as -> HTML (.html)**. Include the finished document along with this notebook as your submission.\n",
    "\n",
    "In addition to implementing code, there will be questions that you must answer which relate to the project and your implementation. Each section where you will answer a question is preceded by a **'Question X'** header. Carefully read each question and provide thorough answers in the following text boxes that begin with **'Answer:'**. Your project submission will be evaluated based on your answers to each of the questions and the implementation you provide.\n",
    "\n",
    ">**Note:** Code and Markdown cells can be executed using the **Shift + Enter** keyboard shortcut.  Markdown cells can be edited by double-clicking the cell to enter edit mode.\n",
    "\n",
    "The rubric contains _optional_ \"Stand Out Suggestions\" for enhancing the project beyond the minimum requirements. If you decide to pursue the \"Stand Out Suggestions\", you should include the code in this IPython notebook.\n",
    "\n",
    "\n",
    "\n",
    "---\n",
    "### Why We're Here \n",
    "\n",
    "In this notebook, you will make the first steps towards developing an algorithm that could be used as part of a mobile or web app.  At the end of this project, your code will accept any user-supplied image as input.  If a dog is detected in the image, it will provide an estimate of the dog's breed.  If a human is detected, it will provide an estimate of the dog breed that is most resembling.  The image below displays potential sample output of your finished project (... but we expect that each student's algorithm will behave differently!). \n",
    "\n",
    "![Sample Dog Output](images/sample_dog_output.png)\n",
    "\n",
    "In this real-world setting, you will need to piece together a series of models to perform different tasks; for instance, the algorithm that detects humans in an image will be different from the CNN that infers dog breed.  There are many points of possible failure, and no perfect algorithm exists.  Your imperfect solution will nonetheless create a fun user experience!\n",
    "\n",
    "### The Road Ahead\n",
    "\n",
    "We break the notebook into separate steps.  Feel free to use the links below to navigate the notebook.\n",
    "\n",
    "* [Step 0](#step0): Import Datasets\n",
    "* [Step 1](#step1): Detect Humans\n",
    "* [Step 2](#step2): Detect Dogs\n",
    "* [Step 3](#step3): Create a CNN to Classify Dog Breeds (from Scratch)\n",
    "* [Step 4](#step4): Use a CNN to Classify Dog Breeds (using Transfer Learning)\n",
    "* [Step 5](#step5): Create a CNN to Classify Dog Breeds (using Transfer Learning)\n",
    "* [Step 6](#step6): Write your Algorithm\n",
    "* [Step 7](#step7): Test Your Algorithm\n",
    "\n",
    "---\n",
    "<a id='step0'></a>\n",
    "## Step 0: Import Datasets\n",
    "\n",
    "### Import Dog Dataset\n",
    "\n",
    "In the code cell below, we import a dataset of dog images.  We populate a few variables through the use of the `load_files` function from the scikit-learn library:\n",
    "- `train_files`, `valid_files`, `test_files` - numpy arrays containing file paths to images\n",
    "- `train_targets`, `valid_targets`, `test_targets` - numpy arrays containing onehot-encoded classification labels \n",
    "- `dog_names` - list of string-valued dog breed names for translating labels"
   ]
  },
  {
   "cell_type": "code",
   "execution_count": 75,
   "metadata": {},
   "outputs": [
    {
     "name": "stdout",
     "output_type": "stream",
     "text": [
      "There are 133 total dog categories.\n",
      "There are 8351 total dog images.\n",
      "\n",
      "There are 6680 training dog images.\n",
      "There are 835 validation dog images.\n",
      "There are 836 test dog images.\n"
     ]
    }
   ],
   "source": [
    "from sklearn.datasets import load_files       \n",
    "from keras.utils import np_utils\n",
    "import numpy as np\n",
    "from glob import glob\n",
    "import pathlib\n",
    "\n",
    "# define function to load train, test, and validation datasets\n",
    "def load_dataset(path):\n",
    "    data = load_files(path)\n",
    "    dog_files = np.array(data['filenames'])\n",
    "    dog_targets = np_utils.to_categorical(np.array(data['target']), 133)\n",
    "    return dog_files, dog_targets\n",
    "\n",
    "# load train, test, and validation datasets\n",
    "train_files, train_targets = load_dataset('dogImages/train')\n",
    "valid_files, valid_targets = load_dataset('dogImages/valid')\n",
    "test_files, test_targets = load_dataset('dogImages/test')\n",
    "\n",
    "# load list of dog names\n",
    "dog_names = [item[20:-1] for item in sorted(glob(\"dogImages/train/*/\"))]\n",
    "\n",
    "# print statistics about the dataset\n",
    "print('There are %d total dog categories.' % len(dog_names))\n",
    "print('There are %s total dog images.\\n' % len(np.hstack([train_files, valid_files, test_files])))\n",
    "print('There are %d training dog images.' % len(train_files))\n",
    "print('There are %d validation dog images.' % len(valid_files))\n",
    "print('There are %d test dog images.'% len(test_files))"
   ]
  },
  {
   "cell_type": "markdown",
   "metadata": {},
   "source": [
    "### Import Human Dataset\n",
    "\n",
    "In the code cell below, we import a dataset of human images, where the file paths are stored in the numpy array `human_files`."
   ]
  },
  {
   "cell_type": "code",
   "execution_count": 35,
   "metadata": {},
   "outputs": [
    {
     "name": "stdout",
     "output_type": "stream",
     "text": [
      "There are 13233 total human images.\n"
     ]
    }
   ],
   "source": [
    "import random\n",
    "random.seed(8675309)\n",
    "\n",
    "# load filenames in shuffled human dataset\n",
    "human_files = np.array(glob(\"lfw/*/*/*.jpg\"))\n",
    "random.shuffle(human_files)\n",
    "\n",
    "# print statistics about the dataset\n",
    "print('There are %d total human images.' % len(human_files))"
   ]
  },
  {
   "cell_type": "markdown",
   "metadata": {},
   "source": [
    "---\n",
    "<a id='step1'></a>\n",
    "## Step 1: Detect Humans\n",
    "\n",
    "We use OpenCV's implementation of [Haar feature-based cascade classifiers](http://docs.opencv.org/trunk/d7/d8b/tutorial_py_face_detection.html) to detect human faces in images.  OpenCV provides many pre-trained face detectors, stored as XML files on [github](https://github.com/opencv/opencv/tree/master/data/haarcascades).  We have downloaded one of these detectors and stored it in the `haarcascades` directory.\n",
    "\n",
    "In the next code cell, we demonstrate how to use this detector to find human faces in a sample image."
   ]
  },
  {
   "cell_type": "code",
   "execution_count": 36,
   "metadata": {},
   "outputs": [
    {
     "data": {
      "text/plain": [
       "'lfw/lfw/Michael_Douglas/Michael_Douglas_0004.jpg'"
      ]
     },
     "execution_count": 36,
     "metadata": {},
     "output_type": "execute_result"
    }
   ],
   "source": [
    "human_files[3]"
   ]
  },
  {
   "cell_type": "code",
   "execution_count": 37,
   "metadata": {},
   "outputs": [
    {
     "name": "stdout",
     "output_type": "stream",
     "text": [
      "Number of faces detected: 1\n"
     ]
    },
    {
     "data": {
      "image/png": "[encoded data removed]",
      "text/plain": [
       "<Figure size 432x288 with 1 Axes>"
      ]
     },
     "metadata": {
      "needs_background": "light"
     },
     "output_type": "display_data"
    }
   ],
   "source": [
    "import cv2\n",
    "import matplotlib.pyplot as plt\n",
    "%matplotlib inline\n",
    "\n",
    "# extract pre-trained face detector\n",
    "face_cascade = cv2.CascadeClassifier('haarcascades/haarcascade_frontalface_alt.xml')\n",
    "\n",
    "# load color (BGR) image\n",
    "img = cv2.imread(human_files[3])\n",
    "# convert BGR image to grayscale\n",
    "gray = cv2.cvtColor(img, cv2.COLOR_BGR2GRAY)\n",
    "\n",
    "# find faces in image\n",
    "faces = face_cascade.detectMultiScale(gray)\n",
    "\n",
    "# print number of faces detected in the image\n",
    "print('Number of faces detected:', len(faces))\n",
    "\n",
    "# get bounding box for each detected face\n",
    "for (x,y,w,h) in faces:\n",
    "    # add bounding box to color image\n",
    "    cv2.rectangle(img,(x,y),(x+w,y+h),(255,0,0),2)\n",
    "    \n",
    "# convert BGR image to RGB for plotting\n",
    "cv_rgb = cv2.cvtColor(img, cv2.COLOR_BGR2RGB)\n",
    "\n",
    "# display the image, along with bounding box\n",
    "plt.imshow(cv_rgb)\n",
    "plt.show()"
   ]
  },
  {
   "cell_type": "markdown",
   "metadata": {},
   "source": [
    "Before using any of the face detectors, it is standard procedure to convert the images to grayscale.  The `detectMultiScale` function executes the classifier stored in `face_cascade` and takes the grayscale image as a parameter.  \n",
    "\n",
    "In the above code, `faces` is a numpy array of detected faces, where each row corresponds to a detected face.  Each detected face is a 1D array with four entries that specifies the bounding box of the detected face.  The first two entries in the array (extracted in the above code as `x` and `y`) specify the horizontal and vertical positions of the top left corner of the bounding box.  The last two entries in the array (extracted here as `w` and `h`) specify the width and height of the box.\n",
    "\n",
    "### Write a Human Face Detector\n",
    "\n",
    "We can use this procedure to write a function that returns `True` if a human face is detected in an image and `False` otherwise.  This function, aptly named `face_detector`, takes a string-valued file path to an image as input and appears in the code block below."
   ]
  },
  {
   "cell_type": "code",
   "execution_count": 38,
   "metadata": {},
   "outputs": [],
   "source": [
    "# returns \"True\" if face is detected in image stored at img_path\n",
    "def face_detector(img_path):\n",
    "    img = cv2.imread(img_path)\n",
    "    gray = cv2.cvtColor(img, cv2.COLOR_BGR2GRAY)\n",
    "    faces = face_cascade.detectMultiScale(gray)\n",
    "    return len(faces) > 0"
   ]
  },
  {
   "cell_type": "markdown",
   "metadata": {},
   "source": [
    "### (IMPLEMENTATION) Assess the Human Face Detector\n",
    "\n",
    "__Question 1:__ Use the code cell below to test the performance of the `face_detector` function.  \n",
    "- What percentage of the first 100 images in `human_files` have a detected human face?  \n",
    "- What percentage of the first 100 images in `dog_files` have a detected human face? \n",
    "\n",
    "Ideally, we would like 100% of human images with a detected face and 0% of dog images with a detected face.  You will see that our algorithm falls short of this goal, but still gives acceptable performance.  We extract the file paths for the first 100 images from each of the datasets and store them in the numpy arrays `human_files_short` and `dog_files_short`.\n",
    "\n",
    "__Answer:__ "
   ]
  },
  {
   "cell_type": "code",
   "execution_count": 47,
   "metadata": {},
   "outputs": [
    {
     "name": "stdout",
     "output_type": "stream",
     "text": [
      "Human % using face detector is: 0.98\n",
      "Dog % using face detector is: 0.12\n"
     ]
    }
   ],
   "source": [
    "# Do NOT modify the code above this line.\n",
    "\n",
    "## TODO: Test the performance of the face_detector algorithm \n",
    "## on the images in human_files_short and dog_files_short.\n",
    "nr_files = 100\n",
    "\n",
    "human_files_short = human_files[:nr_files]\n",
    "dog_files_short = train_files[:nr_files]\n",
    "\n",
    "count_human_true = 0\n",
    "count_dog_true = 0\n",
    "\n",
    "for human in human_files_short:\n",
    "    if (face_detector(human) == True):\n",
    "        count_human_true += 1\n",
    "\n",
    "for dog in dog_files_short:\n",
    "    if (face_detector(dog) == True):\n",
    "        count_dog_true += 1\n",
    "        \n",
    "        \n",
    "print(\"Human % using face detector is: \" + str(count_human_true / nr_files))\n",
    "print(\"Dog % using face detector is: \" + str(count_dog_true / nr_files))\n"
   ]
  },
  {
   "cell_type": "markdown",
   "metadata": {},
   "source": [
    "__Question 2:__ This algorithmic choice necessitates that we communicate to the user that we accept human images only when they provide a clear view of a face (otherwise, we risk having unneccessarily frustrated users!). In your opinion, is this a reasonable expectation to pose on the user? If not, can you think of a way to detect humans in images that does not necessitate an image with a clearly presented face?\n",
    "\n",
    "__Answer:__\n",
    "\n",
    "We suggest the face detector from OpenCV as a potential way to detect human images in your algorithm, but you are free to explore other approaches, especially approaches that make use of deep learning :).  Please use the code cell below to design and test your own face detection algorithm.  If you decide to pursue this _optional_ task, report performance on each of the datasets."
   ]
  },
  {
   "cell_type": "code",
   "execution_count": null,
   "metadata": {
    "collapsed": true
   },
   "outputs": [],
   "source": [
    "## (Optional) TODO: Report the performance of another  \n",
    "## face detection algorithm on the LFW dataset\n",
    "### Feel free to use as many code cells as needed."
   ]
  },
  {
   "cell_type": "markdown",
   "metadata": {},
   "source": [
    "---\n",
    "<a id='step2'></a>\n",
    "## Step 2: Detect Dogs\n",
    "\n",
    "In this section, we use a pre-trained [ResNet-50](http://ethereon.github.io/netscope/#/gist/db945b393d40bfa26006) model to detect dogs in images.  Our first line of code downloads the ResNet-50 model, along with weights that have been trained on [ImageNet](http://www.image-net.org/), a very large, very popular dataset used for image classification and other vision tasks.  ImageNet contains over 10 million URLs, each linking to an image containing an object from one of [1000 categories](https://gist.github.com/yrevar/942d3a0ac09ec9e5eb3a).  Given an image, this pre-trained ResNet-50 model returns a prediction (derived from the available categories in ImageNet) for the object that is contained in the image."
   ]
  },
  {
   "cell_type": "code",
   "execution_count": 42,
   "metadata": {},
   "outputs": [
    {
     "name": "stdout",
     "output_type": "stream",
     "text": [
      "WARNING:tensorflow:From /home/daniel/anaconda3/lib/python3.7/site-packages/tensorflow/python/framework/op_def_library.py:263: colocate_with (from tensorflow.python.framework.ops) is deprecated and will be removed in a future version.\n",
      "Instructions for updating:\n",
      "Colocations handled automatically by placer.\n",
      "Downloading data from https://github.com/fchollet/deep-learning-models/releases/download/v0.2/resnet50_weights_tf_dim_ordering_tf_kernels.h5\n",
      "102858752/102853048 [==============================] - 325s 3us/step\n"
     ]
    }
   ],
   "source": [
    "from keras.applications.resnet50 import ResNet50\n",
    "\n",
    "# define ResNet50 model\n",
    "ResNet50_model = ResNet50(weights='imagenet')"
   ]
  },
  {
   "cell_type": "markdown",
   "metadata": {},
   "source": [
    "### Pre-process the Data\n",
    "\n",
    "When using TensorFlow as backend, Keras CNNs require a 4D array (which we'll also refer to as a 4D tensor) as input, with shape\n",
    "\n",
    "$$\n",
    "(\\text{nb_samples}, \\text{rows}, \\text{columns}, \\text{channels}),\n",
    "$$\n",
    "\n",
    "where `nb_samples` corresponds to the total number of images (or samples), and `rows`, `columns`, and `channels` correspond to the number of rows, columns, and channels for each image, respectively.  \n",
    "\n",
    "The `path_to_tensor` function below takes a string-valued file path to a color image as input and returns a 4D tensor suitable for supplying to a Keras CNN.  The function first loads the image and resizes it to a square image that is $224 \\times 224$ pixels.  Next, the image is converted to an array, which is then resized to a 4D tensor.  In this case, since we are working with color images, each image has three channels.  Likewise, since we are processing a single image (or sample), the returned tensor will always have shape\n",
    "\n",
    "$$\n",
    "(1, 224, 224, 3).\n",
    "$$\n",
    "\n",
    "The `paths_to_tensor` function takes a numpy array of string-valued image paths as input and returns a 4D tensor with shape \n",
    "\n",
    "$$\n",
    "(\\text{nb_samples}, 224, 224, 3).\n",
    "$$\n",
    "\n",
    "Here, `nb_samples` is the number of samples, or number of images, in the supplied array of image paths.  It is best to think of `nb_samples` as the number of 3D tensors (where each 3D tensor corresponds to a different image) in your dataset!"
   ]
  },
  {
   "cell_type": "code",
   "execution_count": 43,
   "metadata": {},
   "outputs": [],
   "source": [
    "from keras.preprocessing import image                  \n",
    "from tqdm import tqdm\n",
    "\n",
    "def path_to_tensor(img_path):\n",
    "    # loads RGB image as PIL.Image.Image type\n",
    "    img = image.load_img(img_path, target_size=(224, 224))\n",
    "    # convert PIL.Image.Image type to 3D tensor with shape (224, 224, 3)\n",
    "    x = image.img_to_array(img)\n",
    "    # convert 3D tensor to 4D tensor with shape (1, 224, 224, 3) and return 4D tensor\n",
    "    return np.expand_dims(x, axis=0)\n",
    "\n",
    "def paths_to_tensor(img_paths):\n",
    "    list_of_tensors = [path_to_tensor(img_path) for img_path in tqdm(img_paths)]\n",
    "    return np.vstack(list_of_tensors)"
   ]
  },
  {
   "cell_type": "markdown",
   "metadata": {},
   "source": [
    "### Making Predictions with ResNet-50\n",
    "\n",
    "Getting the 4D tensor ready for ResNet-50, and for any other pre-trained model in Keras, requires some additional processing.  First, the RGB image is converted to BGR by reordering the channels.  All pre-trained models have the additional normalization step that the mean pixel (expressed in RGB as $[103.939, 116.779, 123.68]$ and calculated from all pixels in all images in ImageNet) must be subtracted from every pixel in each image.  This is implemented in the imported function `preprocess_input`.  If you're curious, you can check the code for `preprocess_input` [here](https://github.com/fchollet/keras/blob/master/keras/applications/imagenet_utils.py).\n",
    "\n",
    "Now that we have a way to format our image for supplying to ResNet-50, we are now ready to use the model to extract the predictions.  This is accomplished with the `predict` method, which returns an array whose $i$-th entry is the model's predicted probability that the image belongs to the $i$-th ImageNet category.  This is implemented in the `ResNet50_predict_labels` function below.\n",
    "\n",
    "By taking the argmax of the predicted probability vector, we obtain an integer corresponding to the model's predicted object class, which we can identify with an object category through the use of this [dictionary](https://gist.github.com/yrevar/942d3a0ac09ec9e5eb3a). "
   ]
  },
  {
   "cell_type": "code",
   "execution_count": 223,
   "metadata": {},
   "outputs": [],
   "source": [
    "from keras.applications.resnet50 import preprocess_input, decode_predictions\n",
    "\n",
    "def ResNet50_predict_labels(img_path):\n",
    "    # returns prediction vector for image located at img_path\n",
    "    img = preprocess_input(path_to_tensor(img_path))\n",
    "    return np.argmax(ResNet50_model.predict(img))"
   ]
  },
  {
   "cell_type": "markdown",
   "metadata": {},
   "source": [
    "### Write a Dog Detector\n",
    "\n",
    "While looking at the [dictionary](https://gist.github.com/yrevar/942d3a0ac09ec9e5eb3a), you will notice that the categories corresponding to dogs appear in an uninterrupted sequence and correspond to dictionary keys 151-268, inclusive, to include all categories from `'Chihuahua'` to `'Mexican hairless'`.  Thus, in order to check to see if an image is predicted to contain a dog by the pre-trained ResNet-50 model, we need only check if the `ResNet50_predict_labels` function above returns a value between 151 and 268 (inclusive).\n",
    "\n",
    "We use these ideas to complete the `dog_detector` function below, which returns `True` if a dog is detected in an image (and `False` if not)."
   ]
  },
  {
   "cell_type": "code",
   "execution_count": 49,
   "metadata": {},
   "outputs": [],
   "source": [
    "### returns \"True\" if a dog is detected in the image stored at img_path\n",
    "def dog_detector(img_path):\n",
    "    prediction = ResNet50_predict_labels(img_path)\n",
    "    return ((prediction <= 268) & (prediction >= 151)) "
   ]
  },
  {
   "cell_type": "markdown",
   "metadata": {},
   "source": [
    "### (IMPLEMENTATION) Assess the Dog Detector\n",
    "\n",
    "__Question 3:__ Use the code cell below to test the performance of your `dog_detector` function.  \n",
    "- What percentage of the images in `human_files_short` have a detected dog?  \n",
    "- What percentage of the images in `dog_files_short` have a detected dog?\n",
    "\n",
    "__Answer:__ "
   ]
  },
  {
   "cell_type": "code",
   "execution_count": 50,
   "metadata": {},
   "outputs": [
    {
     "name": "stdout",
     "output_type": "stream",
     "text": [
      "Human % using dog detector is: 0.0\n",
      "Dog % using dog detector is: 1.0\n"
     ]
    }
   ],
   "source": [
    "### TODO: Test the performance of the dog_detector function\n",
    "### on the images in human_files_short and dog_files_short.\n",
    "\n",
    "\n",
    "\n",
    "# Do NOT modify the code above this line.\n",
    "\n",
    "## TODO: Test the performance of the face_detector algorithm \n",
    "## on the images in human_files_short and dog_files_short.\n",
    "nr_files = 100\n",
    "\n",
    "count_human_true = 0\n",
    "count_dog_true = 0\n",
    "\n",
    "for human in human_files_short:\n",
    "    if (dog_detector(human) == True):\n",
    "        count_human_true += 1\n",
    "\n",
    "for dog in dog_files_short:\n",
    "    if (dog_detector(dog) == True):\n",
    "        count_dog_true += 1\n",
    "        \n",
    "        \n",
    "print(\"Human % using dog detector is: \" + str(count_human_true / nr_files))\n",
    "print(\"Dog % using dog detector is: \" + str(count_dog_true / nr_files))\n"
   ]
  },
  {
   "cell_type": "markdown",
   "metadata": {},
   "source": [
    "---\n",
    "<a id='step3'></a>\n",
    "## Step 3: Create a CNN to Classify Dog Breeds (from Scratch)\n",
    "\n",
    "Now that we have functions for detecting humans and dogs in images, we need a way to predict breed from images.  In this step, you will create a CNN that classifies dog breeds.  You must create your CNN _from scratch_ (so, you can't use transfer learning _yet_!), and you must attain a test accuracy of at least 1%.  In Step 5 of this notebook, you will have the opportunity to use transfer learning to create a CNN that attains greatly improved accuracy.\n",
    "\n",
    "Be careful with adding too many trainable layers!  More parameters means longer training, which means you are more likely to need a GPU to accelerate the training process.  Thankfully, Keras provides a handy estimate of the time that each epoch is likely to take; you can extrapolate this estimate to figure out how long it will take for your algorithm to train. \n",
    "\n",
    "We mention that the task of assigning breed to dogs from images is considered exceptionally challenging.  To see why, consider that *even a human* would have great difficulty in distinguishing between a Brittany and a Welsh Springer Spaniel.  \n",
    "\n",
    "Brittany | Welsh Springer Spaniel\n",
    "- | - \n",
    "<img src=\"images/Brittany_02625.jpg\" width=\"100\"> | <img src=\"images/Welsh_springer_spaniel_08203.jpg\" width=\"200\">\n",
    "\n",
    "It is not difficult to find other dog breed pairs with minimal inter-class variation (for instance, Curly-Coated Retrievers and American Water Spaniels).  \n",
    "\n",
    "Curly-Coated Retriever | American Water Spaniel\n",
    "- | -\n",
    "<img src=\"images/Curly-coated_retriever_03896.jpg\" width=\"200\"> | <img src=\"images/American_water_spaniel_00648.jpg\" width=\"200\">\n",
    "\n",
    "\n",
    "Likewise, recall that labradors come in yellow, chocolate, and black.  Your vision-based algorithm will have to conquer this high intra-class variation to determine how to classify all of these different shades as the same breed.  \n",
    "\n",
    "Yellow Labrador | Chocolate Labrador | Black Labrador\n",
    "- | -\n",
    "<img src=\"images/Labrador_retriever_06457.jpg\" width=\"150\"> | <img src=\"images/Labrador_retriever_06455.jpg\" width=\"240\"> | <img src=\"images/Labrador_retriever_06449.jpg\" width=\"220\">\n",
    "\n",
    "We also mention that random chance presents an exceptionally low bar: setting aside the fact that the classes are slightly imabalanced, a random guess will provide a correct answer roughly 1 in 133 times, which corresponds to an accuracy of less than 1%.  \n",
    "\n",
    "Remember that the practice is far ahead of the theory in deep learning.  Experiment with many different architectures, and trust your intuition.  And, of course, have fun! \n",
    "\n",
    "### Pre-process the Data\n",
    "\n",
    "We rescale the images by dividing every pixel in every image by 255."
   ]
  },
  {
   "cell_type": "code",
   "execution_count": 51,
   "metadata": {},
   "outputs": [
    {
     "name": "stderr",
     "output_type": "stream",
     "text": [
      "100%|██████████| 6680/6680 [00:41<00:00, 161.69it/s]\n",
      "100%|██████████| 835/835 [00:05<00:00, 149.40it/s]\n",
      "100%|██████████| 836/836 [00:05<00:00, 151.62it/s]\n"
     ]
    }
   ],
   "source": [
    "from PIL import ImageFile                            \n",
    "ImageFile.LOAD_TRUNCATED_IMAGES = True                 \n",
    "\n",
    "# pre-process the data for Keras\n",
    "train_tensors = paths_to_tensor(train_files).astype('float32')/255\n",
    "valid_tensors = paths_to_tensor(valid_files).astype('float32')/255\n",
    "test_tensors = paths_to_tensor(test_files).astype('float32')/255"
   ]
  },
  {
   "cell_type": "markdown",
   "metadata": {},
   "source": [
    "### (IMPLEMENTATION) Model Architecture\n",
    "\n",
    "Create a CNN to classify dog breed.  At the end of your code cell block, summarize the layers of your model by executing the line:\n",
    "    \n",
    "        model.summary()\n",
    "\n",
    "We have imported some Python modules to get you started, but feel free to import as many modules as you need.  If you end up getting stuck, here's a hint that specifies a model that trains relatively fast on CPU and attains >1% test accuracy in 5 epochs:\n",
    "\n",
    "![Sample CNN](images/sample_cnn.png)\n",
    "           \n",
    "__Question 4:__ Outline the steps you took to get to your final CNN architecture and your reasoning at each step.  If you chose to use the hinted architecture above, describe why you think that CNN architecture should work well for the image classification task.\n",
    "\n",
    "__Answer:__ "
   ]
  },
  {
   "cell_type": "code",
   "execution_count": 57,
   "metadata": {},
   "outputs": [
    {
     "name": "stdout",
     "output_type": "stream",
     "text": [
      "_________________________________________________________________\n",
      "Layer (type)                 Output Shape              Param #   \n",
      "=================================================================\n",
      "conv2d_10 (Conv2D)           (None, 224, 224, 16)      208       \n",
      "_________________________________________________________________\n",
      "max_pooling2d_11 (MaxPooling (None, 112, 112, 16)      0         \n",
      "_________________________________________________________________\n",
      "conv2d_11 (Conv2D)           (None, 112, 112, 32)      2080      \n",
      "_________________________________________________________________\n",
      "max_pooling2d_12 (MaxPooling (None, 56, 56, 32)        0         \n",
      "_________________________________________________________________\n",
      "conv2d_12 (Conv2D)           (None, 56, 56, 64)        8256      \n",
      "_________________________________________________________________\n",
      "max_pooling2d_13 (MaxPooling (None, 28, 28, 64)        0         \n",
      "_________________________________________________________________\n",
      "global_average_pooling2d_4 ( (None, 64)                0         \n",
      "_________________________________________________________________\n",
      "dense_4 (Dense)              (None, 133)               8645      \n",
      "=================================================================\n",
      "Total params: 19,189\n",
      "Trainable params: 19,189\n",
      "Non-trainable params: 0\n",
      "_________________________________________________________________\n"
     ]
    }
   ],
   "source": [
    "from keras.layers import Conv2D, MaxPooling2D, GlobalAveragePooling2D\n",
    "from keras.layers import Dropout, Flatten, Dense\n",
    "from keras.models import Sequential\n",
    "\n",
    "\n",
    "### TODO: Define your architecture.\n",
    "# Note: This is a defined CNN as of the suggested architecture. Tested it's performance VS. a known architecture (cifar10 - can be seen below)\n",
    "def original_model():\n",
    "    model = Sequential()\n",
    "    model.add(Conv2D(filters=16, kernel_size=2, padding='same', activation='relu', input_shape=train_tensors.shape[1:]))\n",
    "    model.add(MaxPooling2D(pool_size=2))\n",
    "    model.add(Conv2D(filters=32, kernel_size=2, padding='same', activation='relu'))\n",
    "    model.add(MaxPooling2D(pool_size=2))\n",
    "    model.add(Conv2D(filters=64, kernel_size=2, padding='same', activation='relu'))\n",
    "    model.add(MaxPooling2D(pool_size=2))\n",
    "    model.add(GlobalAveragePooling2D())\n",
    "    model.add(Dense(len(dog_names), activation='softmax'))\n",
    "    \n",
    "    return model\n",
    "\n",
    "model = original_seq_model()\n",
    "model.summary()"
   ]
  },
  {
   "cell_type": "code",
   "execution_count": null,
   "metadata": {},
   "outputs": [],
   "source": [
    "# Note: Wanted to use a known architecture to see how far is it from a known model.\n",
    "# Also, added dropout with several values to make it less prone to overfit\n",
    "def cifar10_model():\n",
    "    model = Sequential()\n",
    "    model.add(Conv2D(filters=16, kernel_size=2, padding='same', activation='relu', input_shape=train_tensors.shape[1:]))\n",
    "    model.add(MaxPooling2D(pool_size=2))\n",
    "    model.add(Conv2D(filters=32, kernel_size=2, padding='same', activation='relu'))\n",
    "    model.add(MaxPooling2D(pool_size=2))\n",
    "    model.add(Conv2D(filters=64, kernel_size=2, padding='same', activation='relu'))\n",
    "    model.add(MaxPooling2D(pool_size=2))\n",
    "    model.add(Dropout(0.3))\n",
    "    model.add(Flatten())\n",
    "    model.add(Dense(500, activation='relu'))\n",
    "    model.add(Dropout(0.4))\n",
    "    model.add(Dense(len(dog_names), activation='softmax'))\n",
    "    \n",
    "    return model\n",
    "\n",
    "model = original_seq_model()\n",
    "model.summary()"
   ]
  },
  {
   "cell_type": "code",
   "execution_count": 65,
   "metadata": {},
   "outputs": [],
   "source": [
    "# Note: of course we can test many more models...\n",
    "models = {\n",
    "          \"original_model\": {\"model\": original_model},\n",
    "          \"cifar10_model\": {\"model\": cifar10_model}\n",
    "         }"
   ]
  },
  {
   "cell_type": "code",
   "execution_count": 69,
   "metadata": {},
   "outputs": [],
   "source": [
    "from keras.callbacks import ModelCheckpoint\n",
    "from keras.callbacks import Callback\n",
    "import time"
   ]
  },
  {
   "cell_type": "code",
   "execution_count": 70,
   "metadata": {},
   "outputs": [],
   "source": [
    "# From https://stackoverflow.com/questions/43178668/record-the-computation-time-for-each-epoch-in-keras-during-model-fit\n",
    "\n",
    "class TimeHistory(Callback):\n",
    "    def on_train_begin(self, logs={}):\n",
    "        self.times = []\n",
    "\n",
    "    def on_epoch_begin(self, batch, logs={}):\n",
    "        self.epoch_time_start = time.time()\n",
    "\n",
    "    def on_epoch_end(self, batch, logs={}):\n",
    "        self.times.append(time.time() - self.epoch_time_start)"
   ]
  },
  {
   "cell_type": "markdown",
   "metadata": {},
   "source": [
    "### Train + Compile the Model"
   ]
  },
  {
   "cell_type": "code",
   "execution_count": 76,
   "metadata": {},
   "outputs": [],
   "source": [
    "def train_models(models, train_data, valid_data, epochs, batch_size):\n",
    "    for key in models.keys():\n",
    "        print(f\"\\n\\nNow processing the {key}\")\n",
    "        model = models[key][\"model\"]()\n",
    "        filepath = pathlib.Path(\".\").absolute().joinpath('saved_models',f'weights.best.{key}.hdf5')\n",
    "        model.compile(optimizer='rmsprop', loss='categorical_crossentropy', metrics=['accuracy'])\n",
    "\n",
    "        checkpointer = ModelCheckpoint(filepath=str(filepath), verbose=1, save_best_only=True)\n",
    "\n",
    "        time_callback = TimeHistory()\n",
    "\n",
    "        history = model.fit(train_tensors, train_targets, \n",
    "                                validation_data=(valid_tensors, valid_targets),\n",
    "                                epochs=epochs, batch_size=batch_size, callbacks=[checkpointer, time_callback], verbose=2)\n",
    "\n",
    "        models[key][\"time\"] = time_callback.times\n",
    "        models[key][\"history\"] = dict(epoch=history.epoch, \n",
    "                                      loss=history.history[\"loss\"],\n",
    "                                      acc=history.history[\"acc\"], \n",
    "                                      val_loss=history.history[\"val_loss\"],\n",
    "                                      val_acc=history.history[\"val_acc\"])\n",
    "        \n",
    "    return models"
   ]
  },
  {
   "cell_type": "code",
   "execution_count": 77,
   "metadata": {},
   "outputs": [
    {
     "name": "stdout",
     "output_type": "stream",
     "text": [
      "\n",
      "\n",
      "Now processing the original_model\n",
      "Train on 6680 samples, validate on 835 samples\n",
      "Epoch 1/10\n",
      " - 102s - loss: 4.8839 - acc: 0.0091 - val_loss: 4.8673 - val_acc: 0.0096\n",
      "\n",
      "Epoch 00001: val_loss improved from inf to 4.86727, saving model to /home/daniel/Desktop/dog-project/saved_models/weights.best.original_model.hdf5\n",
      "Epoch 2/10\n",
      " - 101s - loss: 4.8569 - acc: 0.0130 - val_loss: 4.8362 - val_acc: 0.0204\n",
      "\n",
      "Epoch 00002: val_loss improved from 4.86727 to 4.83618, saving model to /home/daniel/Desktop/dog-project/saved_models/weights.best.original_model.hdf5\n",
      "Epoch 3/10\n",
      " - 119s - loss: 4.8126 - acc: 0.0150 - val_loss: 4.8078 - val_acc: 0.0204\n",
      "\n",
      "Epoch 00003: val_loss improved from 4.83618 to 4.80781, saving model to /home/daniel/Desktop/dog-project/saved_models/weights.best.original_model.hdf5\n",
      "Epoch 4/10\n",
      " - 119s - loss: 4.7867 - acc: 0.0189 - val_loss: 4.7932 - val_acc: 0.0228\n",
      "\n",
      "Epoch 00004: val_loss improved from 4.80781 to 4.79315, saving model to /home/daniel/Desktop/dog-project/saved_models/weights.best.original_model.hdf5\n",
      "Epoch 5/10\n",
      " - 118s - loss: 4.7647 - acc: 0.0189 - val_loss: 4.7758 - val_acc: 0.0263\n",
      "\n",
      "Epoch 00005: val_loss improved from 4.79315 to 4.77585, saving model to /home/daniel/Desktop/dog-project/saved_models/weights.best.original_model.hdf5\n",
      "Epoch 6/10\n",
      " - 111s - loss: 4.7400 - acc: 0.0254 - val_loss: 4.7528 - val_acc: 0.0263\n",
      "\n",
      "Epoch 00006: val_loss improved from 4.77585 to 4.75278, saving model to /home/daniel/Desktop/dog-project/saved_models/weights.best.original_model.hdf5\n",
      "Epoch 7/10\n",
      " - 100s - loss: 4.7130 - acc: 0.0293 - val_loss: 4.7754 - val_acc: 0.0323\n",
      "\n",
      "Epoch 00007: val_loss did not improve from 4.75278\n",
      "Epoch 8/10\n",
      " - 102s - loss: 4.6883 - acc: 0.0305 - val_loss: 4.7262 - val_acc: 0.0323\n",
      "\n",
      "Epoch 00008: val_loss improved from 4.75278 to 4.72622, saving model to /home/daniel/Desktop/dog-project/saved_models/weights.best.original_model.hdf5\n",
      "Epoch 9/10\n",
      " - 102s - loss: 4.6660 - acc: 0.0341 - val_loss: 4.7204 - val_acc: 0.0311\n",
      "\n",
      "Epoch 00009: val_loss improved from 4.72622 to 4.72041, saving model to /home/daniel/Desktop/dog-project/saved_models/weights.best.original_model.hdf5\n",
      "Epoch 10/10\n",
      " - 102s - loss: 4.6424 - acc: 0.0352 - val_loss: 4.6979 - val_acc: 0.0299\n",
      "\n",
      "Epoch 00010: val_loss improved from 4.72041 to 4.69790, saving model to /home/daniel/Desktop/dog-project/saved_models/weights.best.original_model.hdf5\n",
      "\n",
      "\n",
      "Now processing the cifar10_model\n",
      "WARNING:tensorflow:From /home/daniel/anaconda3/lib/python3.7/site-packages/keras/backend/tensorflow_backend.py:3445: calling dropout (from tensorflow.python.ops.nn_ops) with keep_prob is deprecated and will be removed in a future version.\n",
      "Instructions for updating:\n",
      "Please use `rate` instead of `keep_prob`. Rate should be set to `rate = 1 - keep_prob`.\n",
      "Train on 6680 samples, validate on 835 samples\n",
      "Epoch 1/10\n",
      " - 171s - loss: 4.8860 - acc: 0.0160 - val_loss: 4.6205 - val_acc: 0.0479\n",
      "\n",
      "Epoch 00001: val_loss improved from inf to 4.62045, saving model to /home/daniel/Desktop/dog-project/saved_models/weights.best.cifar10_model.hdf5\n",
      "Epoch 2/10\n",
      " - 176s - loss: 4.4370 - acc: 0.0551 - val_loss: 4.3456 - val_acc: 0.0539\n",
      "\n",
      "Epoch 00002: val_loss improved from 4.62045 to 4.34557, saving model to /home/daniel/Desktop/dog-project/saved_models/weights.best.cifar10_model.hdf5\n",
      "Epoch 3/10\n",
      " - 182s - loss: 3.8232 - acc: 0.1443 - val_loss: 4.3468 - val_acc: 0.0707\n",
      "\n",
      "Epoch 00003: val_loss did not improve from 4.34557\n",
      "Epoch 4/10\n",
      " - 164s - loss: 2.9656 - acc: 0.3037 - val_loss: 4.5898 - val_acc: 0.0743\n",
      "\n",
      "Epoch 00004: val_loss did not improve from 4.34557\n",
      "Epoch 5/10\n",
      " - 168s - loss: 2.0896 - acc: 0.4862 - val_loss: 5.1661 - val_acc: 0.0671\n",
      "\n",
      "Epoch 00005: val_loss did not improve from 4.34557\n",
      "Epoch 6/10\n",
      " - 185s - loss: 1.3874 - acc: 0.6575 - val_loss: 6.3365 - val_acc: 0.0671\n",
      "\n",
      "Epoch 00006: val_loss did not improve from 4.34557\n",
      "Epoch 7/10\n",
      " - 183s - loss: 1.0075 - acc: 0.7560 - val_loss: 7.8162 - val_acc: 0.0539\n",
      "\n",
      "Epoch 00007: val_loss did not improve from 4.34557\n",
      "Epoch 8/10\n",
      " - 157s - loss: 0.8070 - acc: 0.8079 - val_loss: 9.0469 - val_acc: 0.0790\n",
      "\n",
      "Epoch 00008: val_loss did not improve from 4.34557\n",
      "Epoch 9/10\n",
      " - 160s - loss: 0.7408 - acc: 0.8400 - val_loss: 9.8573 - val_acc: 0.0563\n",
      "\n",
      "Epoch 00009: val_loss did not improve from 4.34557\n",
      "Epoch 10/10\n",
      " - 168s - loss: 0.6931 - acc: 0.8605 - val_loss: 10.5219 - val_acc: 0.0707\n",
      "\n",
      "Epoch 00010: val_loss did not improve from 4.34557\n"
     ]
    }
   ],
   "source": [
    "\n",
    "models = train_models(models=models, train_data=train_tensors, valid_data=valid_tensors, epochs=10, batch_size=20)"
   ]
  },
  {
   "cell_type": "markdown",
   "metadata": {},
   "source": [
    "### Load the Model with the Best Validation Loss"
   ]
  },
  {
   "cell_type": "markdown",
   "metadata": {},
   "source": [
    "### Test the Model\n",
    "\n",
    "Try out your model on the test dataset of dog images.  Ensure that your test accuracy is greater than 1%."
   ]
  },
  {
   "cell_type": "code",
   "execution_count": 81,
   "metadata": {},
   "outputs": [],
   "source": [
    "# get index of predicted dog breed for each image in test set\n",
    "# dog_breed_predictions = [np.argmax(model.predict(np.expand_dims(tensor, axis=0))) for tensor in test_tensors]\n",
    "\n",
    "# # report test accuracy\n",
    "# test_accuracy = 100*np.sum(np.array(dog_breed_predictions)==np.argmax(test_targets, axis=1))/len(dog_breed_predictions)\n",
    "# print('Test accuracy: %.4f%%' % test_accuracy)\n",
    "def get_accuracy(models, test_data):\n",
    "    for key in models.keys():\n",
    "        model = models[key][\"model\"]()\n",
    "\n",
    "        # Load the Model with the Best Validation Loss\n",
    "        filepath = pathlib.Path(\".\").absolute().joinpath('saved_models', f'weights.best.{key}.hdf5')\n",
    "        model.load_weights(str(filepath))\n",
    "\n",
    "        # get index of predicted dog breed for each image in test set\n",
    "        dog_breed_predictions = [np.argmax(model.predict(np.expand_dims(tensor, axis=0))) for tensor in test_data]\n",
    "\n",
    "        # report test accuracy\n",
    "        models[key][\"test_accuracy\"] = \\\n",
    "            100*np.sum(np.array(dog_breed_predictions)==np.argmax(test_targets, axis=1))/len(dog_breed_predictions)\n",
    "            \n",
    "    return models"
   ]
  },
  {
   "cell_type": "code",
   "execution_count": 82,
   "metadata": {},
   "outputs": [],
   "source": [
    "models = get_accuracy(models, test_tensors)"
   ]
  },
  {
   "cell_type": "code",
   "execution_count": 83,
   "metadata": {},
   "outputs": [],
   "source": [
    "#### plotting some stats"
   ]
  },
  {
   "cell_type": "code",
   "execution_count": 84,
   "metadata": {},
   "outputs": [],
   "source": [
    "def plot_stats(models):\n",
    "    fig, (ax1, ax2, ax3, ax4, ax5) = plt.subplots(5, sharex=True, figsize=(12, 12))\n",
    "\n",
    "    for key in models.keys():\n",
    "        ax1.plot(models[key][\"history\"][\"epoch\"], \n",
    "                 models[key][\"history\"][\"val_loss\"],\n",
    "                 label=f\"{key}, test_acc = {models[key]['test_accuracy']:.4}%\")\n",
    "        ax2.plot(models[key][\"history\"][\"epoch\"],\n",
    "                 models[key][\"history\"][\"val_acc\"])\n",
    "        ax3.plot(models[key][\"history\"][\"epoch\"], \n",
    "                 models[key][\"history\"][\"loss\"])\n",
    "        ax4.plot(models[key][\"history\"][\"epoch\"],\n",
    "                 models[key][\"history\"][\"acc\"])\n",
    "        ax5.plot(models[key][\"history\"][\"epoch\"],\n",
    "                 models[key][\"time\"])\n",
    "\n",
    "    _ = ax1.set_ylabel(\"val_loss\")\n",
    "    ax1.grid(True)\n",
    "    _ = ax1.legend()\n",
    "    _ = ax2.set_ylabel(\"val_acc\")\n",
    "    ax2.grid(True)\n",
    "    _ = ax3.set_ylabel(\"train_loss\")\n",
    "    ax3.grid(True)\n",
    "    _ = ax4.set_ylabel(\"train_acc\")\n",
    "    ax4.grid(True)\n",
    "    _ = ax5.set_ylabel(\"Epoch calculation time [s]\")\n",
    "    _ = ax5.set_xlabel(\"epoch\")\n",
    "    ax5.grid(True)\n",
    "    plt.show()"
   ]
  },
  {
   "cell_type": "code",
   "execution_count": 85,
   "metadata": {},
   "outputs": [
    {
     "data": {
      "image/png": "[encoded data removed]",
      "text/plain": [
       "<Figure size 864x864 with 5 Axes>"
      ]
     },
     "metadata": {
      "needs_background": "light"
     },
     "output_type": "display_data"
    }
   ],
   "source": [
    "plot_stats(models)"
   ]
  },
  {
   "cell_type": "markdown",
   "metadata": {},
   "source": [
    "---\n",
    "<a id='step4'></a>\n",
    "## Step 4: Use a CNN to Classify Dog Breeds\n",
    "\n",
    "To reduce training time without sacrificing accuracy, we show you how to train a CNN using transfer learning.  In the following step, you will get a chance to use transfer learning to train your own CNN.\n",
    "\n",
    "### Obtain Bottleneck Features"
   ]
  },
  {
   "cell_type": "code",
   "execution_count": 126,
   "metadata": {},
   "outputs": [],
   "source": [
    "bottleneck_features = np.load('bottleneck_features/DogVGG16Data.npz')\n",
    "train_VGG16 = bottleneck_features['train']\n",
    "valid_VGG16 = bottleneck_features['valid']\n",
    "test_VGG16 = bottleneck_features['test']"
   ]
  },
  {
   "cell_type": "markdown",
   "metadata": {},
   "source": [
    "### Model Architecture\n",
    "\n",
    "The model uses the the pre-trained VGG-16 model as a fixed feature extractor, where the last convolutional output of VGG-16 is fed as input to our model.  We only add a global average pooling layer and a fully connected layer, where the latter contains one node for each dog category and is equipped with a softmax."
   ]
  },
  {
   "cell_type": "code",
   "execution_count": 127,
   "metadata": {},
   "outputs": [
    {
     "name": "stdout",
     "output_type": "stream",
     "text": [
      "_________________________________________________________________\n",
      "Layer (type)                 Output Shape              Param #   \n",
      "=================================================================\n",
      "global_average_pooling2d_14  (None, 512)               0         \n",
      "_________________________________________________________________\n",
      "dense_22 (Dense)             (None, 133)               68229     \n",
      "=================================================================\n",
      "Total params: 68,229\n",
      "Trainable params: 68,229\n",
      "Non-trainable params: 0\n",
      "_________________________________________________________________\n"
     ]
    }
   ],
   "source": [
    "VGG16_model = Sequential()\n",
    "VGG16_model.add(GlobalAveragePooling2D(input_shape=train_VGG16.shape[1:]))\n",
    "VGG16_model.add(Dense(133, activation='softmax'))\n",
    "\n",
    "VGG16_model.summary()"
   ]
  },
  {
   "cell_type": "markdown",
   "metadata": {},
   "source": [
    "### Compile the Model"
   ]
  },
  {
   "cell_type": "code",
   "execution_count": 88,
   "metadata": {},
   "outputs": [],
   "source": [
    "VGG16_model.compile(loss='categorical_crossentropy', optimizer='rmsprop', metrics=['accuracy'])"
   ]
  },
  {
   "cell_type": "markdown",
   "metadata": {},
   "source": [
    "### Train the Model"
   ]
  },
  {
   "cell_type": "code",
   "execution_count": 89,
   "metadata": {},
   "outputs": [
    {
     "name": "stdout",
     "output_type": "stream",
     "text": [
      "Train on 6680 samples, validate on 835 samples\n",
      "Epoch 1/20\n",
      "6680/6680 [==============================] - 2s 259us/step - loss: 12.1781 - acc: 0.1313 - val_loss: 10.5204 - val_acc: 0.2431\n",
      "\n",
      "Epoch 00001: val_loss improved from inf to 10.52042, saving model to saved_models/weights.best.VGG16.hdf5\n",
      "Epoch 2/20\n",
      "6680/6680 [==============================] - 1s 112us/step - loss: 9.6957 - acc: 0.2985 - val_loss: 9.7417 - val_acc: 0.2946\n",
      "\n",
      "Epoch 00002: val_loss improved from 10.52042 to 9.74175, saving model to saved_models/weights.best.VGG16.hdf5\n",
      "Epoch 3/20\n",
      "6680/6680 [==============================] - 1s 117us/step - loss: 8.8347 - acc: 0.3781 - val_loss: 9.1252 - val_acc: 0.3269\n",
      "\n",
      "Epoch 00003: val_loss improved from 9.74175 to 9.12525, saving model to saved_models/weights.best.VGG16.hdf5\n",
      "Epoch 4/20\n",
      "6680/6680 [==============================] - 1s 117us/step - loss: 8.4781 - acc: 0.4199 - val_loss: 8.9307 - val_acc: 0.3569\n",
      "\n",
      "Epoch 00004: val_loss improved from 9.12525 to 8.93074, saving model to saved_models/weights.best.VGG16.hdf5\n",
      "Epoch 5/20\n",
      "6680/6680 [==============================] - 1s 134us/step - loss: 8.1610 - acc: 0.4437 - val_loss: 8.5112 - val_acc: 0.3737\n",
      "\n",
      "Epoch 00005: val_loss improved from 8.93074 to 8.51117, saving model to saved_models/weights.best.VGG16.hdf5\n",
      "Epoch 6/20\n",
      "6680/6680 [==============================] - 1s 122us/step - loss: 7.6368 - acc: 0.4723 - val_loss: 7.9991 - val_acc: 0.4024\n",
      "\n",
      "Epoch 00006: val_loss improved from 8.51117 to 7.99911, saving model to saved_models/weights.best.VGG16.hdf5\n",
      "Epoch 7/20\n",
      "6680/6680 [==============================] - 1s 123us/step - loss: 7.2985 - acc: 0.5033 - val_loss: 7.9111 - val_acc: 0.4168\n",
      "\n",
      "Epoch 00007: val_loss improved from 7.99911 to 7.91111, saving model to saved_models/weights.best.VGG16.hdf5\n",
      "Epoch 8/20\n",
      "6680/6680 [==============================] - 1s 132us/step - loss: 7.1247 - acc: 0.5237 - val_loss: 7.7362 - val_acc: 0.4323\n",
      "\n",
      "Epoch 00008: val_loss improved from 7.91111 to 7.73618, saving model to saved_models/weights.best.VGG16.hdf5\n",
      "Epoch 9/20\n",
      "6680/6680 [==============================] - 1s 111us/step - loss: 7.0395 - acc: 0.5379 - val_loss: 7.6494 - val_acc: 0.4383\n",
      "\n",
      "Epoch 00009: val_loss improved from 7.73618 to 7.64938, saving model to saved_models/weights.best.VGG16.hdf5\n",
      "Epoch 10/20\n",
      "6680/6680 [==============================] - 1s 120us/step - loss: 6.8716 - acc: 0.5500 - val_loss: 7.6388 - val_acc: 0.4395\n",
      "\n",
      "Epoch 00010: val_loss improved from 7.64938 to 7.63884, saving model to saved_models/weights.best.VGG16.hdf5\n",
      "Epoch 11/20\n",
      "6680/6680 [==============================] - 1s 128us/step - loss: 6.7175 - acc: 0.5593 - val_loss: 7.4361 - val_acc: 0.4527\n",
      "\n",
      "Epoch 00011: val_loss improved from 7.63884 to 7.43610, saving model to saved_models/weights.best.VGG16.hdf5\n",
      "Epoch 12/20\n",
      "6680/6680 [==============================] - 1s 111us/step - loss: 6.5865 - acc: 0.5723 - val_loss: 7.3287 - val_acc: 0.4659\n",
      "\n",
      "Epoch 00012: val_loss improved from 7.43610 to 7.32870, saving model to saved_models/weights.best.VGG16.hdf5\n",
      "Epoch 13/20\n",
      "6680/6680 [==============================] - 1s 129us/step - loss: 6.4765 - acc: 0.5829 - val_loss: 7.3028 - val_acc: 0.4647\n",
      "\n",
      "Epoch 00013: val_loss improved from 7.32870 to 7.30279, saving model to saved_models/weights.best.VGG16.hdf5\n",
      "Epoch 14/20\n",
      "6680/6680 [==============================] - 1s 125us/step - loss: 6.4287 - acc: 0.5859 - val_loss: 7.1766 - val_acc: 0.4719\n",
      "\n",
      "Epoch 00014: val_loss improved from 7.30279 to 7.17655, saving model to saved_models/weights.best.VGG16.hdf5\n",
      "Epoch 15/20\n",
      "6680/6680 [==============================] - 1s 110us/step - loss: 6.3719 - acc: 0.5904 - val_loss: 7.1819 - val_acc: 0.4695\n",
      "\n",
      "Epoch 00015: val_loss did not improve from 7.17655\n",
      "Epoch 16/20\n",
      "6680/6680 [==============================] - 1s 113us/step - loss: 6.2233 - acc: 0.5985 - val_loss: 7.0883 - val_acc: 0.4695\n",
      "\n",
      "Epoch 00016: val_loss improved from 7.17655 to 7.08832, saving model to saved_models/weights.best.VGG16.hdf5\n",
      "Epoch 17/20\n",
      "6680/6680 [==============================] - 1s 112us/step - loss: 6.1375 - acc: 0.6048 - val_loss: 6.8612 - val_acc: 0.4910\n",
      "\n",
      "Epoch 00017: val_loss improved from 7.08832 to 6.86115, saving model to saved_models/weights.best.VGG16.hdf5\n",
      "Epoch 18/20\n",
      "6680/6680 [==============================] - 1s 132us/step - loss: 5.9688 - acc: 0.6118 - val_loss: 6.8435 - val_acc: 0.4886\n",
      "\n",
      "Epoch 00018: val_loss improved from 6.86115 to 6.84352, saving model to saved_models/weights.best.VGG16.hdf5\n",
      "Epoch 19/20\n",
      "6680/6680 [==============================] - 1s 126us/step - loss: 5.8873 - acc: 0.6243 - val_loss: 6.7723 - val_acc: 0.4922\n",
      "\n",
      "Epoch 00019: val_loss improved from 6.84352 to 6.77235, saving model to saved_models/weights.best.VGG16.hdf5\n",
      "Epoch 20/20\n",
      "6680/6680 [==============================] - 1s 118us/step - loss: 5.8648 - acc: 0.6286 - val_loss: 6.7320 - val_acc: 0.4970\n",
      "\n",
      "Epoch 00020: val_loss improved from 6.77235 to 6.73204, saving model to saved_models/weights.best.VGG16.hdf5\n"
     ]
    },
    {
     "data": {
      "text/plain": [
       "<keras.callbacks.History at 0x7fd754f09b70>"
      ]
     },
     "execution_count": 89,
     "metadata": {},
     "output_type": "execute_result"
    }
   ],
   "source": [
    "checkpointer = ModelCheckpoint(filepath='saved_models/weights.best.VGG16.hdf5', \n",
    "                               verbose=1, save_best_only=True)\n",
    "\n",
    "VGG16_model.fit(train_VGG16, train_targets, \n",
    "          validation_data=(valid_VGG16, valid_targets),\n",
    "          epochs=20, batch_size=20, callbacks=[checkpointer], verbose=1)"
   ]
  },
  {
   "cell_type": "markdown",
   "metadata": {},
   "source": [
    "### Load the Model with the Best Validation Loss"
   ]
  },
  {
   "cell_type": "code",
   "execution_count": 90,
   "metadata": {},
   "outputs": [],
   "source": [
    "VGG16_model.load_weights('saved_models/weights.best.VGG16.hdf5')"
   ]
  },
  {
   "cell_type": "markdown",
   "metadata": {},
   "source": [
    "### Test the Model\n",
    "\n",
    "Now, we can use the CNN to test how well it identifies breed within our test dataset of dog images.  We print the test accuracy below."
   ]
  },
  {
   "cell_type": "code",
   "execution_count": 91,
   "metadata": {},
   "outputs": [
    {
     "name": "stdout",
     "output_type": "stream",
     "text": [
      "Test accuracy: 50.1196%\n"
     ]
    }
   ],
   "source": [
    "# get index of predicted dog breed for each image in test set\n",
    "VGG16_predictions = [np.argmax(VGG16_model.predict(np.expand_dims(feature, axis=0))) for feature in test_VGG16]\n",
    "\n",
    "# report test accuracy\n",
    "test_accuracy = 100*np.sum(np.array(VGG16_predictions)==np.argmax(test_targets, axis=1))/len(VGG16_predictions)\n",
    "print('Test accuracy: %.4f%%' % test_accuracy)"
   ]
  },
  {
   "cell_type": "markdown",
   "metadata": {},
   "source": [
    "### Predict Dog Breed with the Model"
   ]
  },
  {
   "cell_type": "code",
   "execution_count": 92,
   "metadata": {},
   "outputs": [],
   "source": [
    "from extract_bottleneck_features import *\n",
    "\n",
    "def VGG16_predict_breed(img_path):\n",
    "    # extract bottleneck features\n",
    "    bottleneck_feature = extract_VGG16(path_to_tensor(img_path))\n",
    "    # obtain predicted vector\n",
    "    predicted_vector = VGG16_model.predict(bottleneck_feature)\n",
    "    # return dog breed that is predicted by the model\n",
    "    return dog_names[np.argmax(predicted_vector)]"
   ]
  },
  {
   "cell_type": "markdown",
   "metadata": {},
   "source": [
    "---\n",
    "<a id='step5'></a>\n",
    "## Step 5: Create a CNN to Classify Dog Breeds (using Transfer Learning)\n",
    "\n",
    "You will now use transfer learning to create a CNN that can identify dog breed from images.  Your CNN must attain at least 60% accuracy on the test set.\n",
    "\n",
    "In Step 4, we used transfer learning to create a CNN using VGG-16 bottleneck features.  In this section, you must use the bottleneck features from a different pre-trained model.  To make things easier for you, we have pre-computed the features for all of the networks that are currently available in Keras:\n",
    "- [VGG-19](https://s3-us-west-1.amazonaws.com/udacity-aind/dog-project/DogVGG19Data.npz) bottleneck features\n",
    "- [ResNet-50](https://s3-us-west-1.amazonaws.com/udacity-aind/dog-project/DogResnet50Data.npz) bottleneck features\n",
    "- [Inception](https://s3-us-west-1.amazonaws.com/udacity-aind/dog-project/DogInceptionV3Data.npz) bottleneck features\n",
    "- [Xception](https://s3-us-west-1.amazonaws.com/udacity-aind/dog-project/DogXceptionData.npz) bottleneck features\n",
    "\n",
    "The files are encoded as such:\n",
    "\n",
    "    Dog{network}Data.npz\n",
    "    \n",
    "where `{network}`, in the above filename, can be one of `VGG19`, `Resnet50`, `InceptionV3`, or `Xception`.  Pick one of the above architectures, download the corresponding bottleneck features, and store the downloaded file in the `bottleneck_features/` folder in the repository.\n",
    "\n",
    "### (IMPLEMENTATION) Obtain Bottleneck Features\n",
    "\n",
    "In the code block below, extract the bottleneck features corresponding to the train, test, and validation sets by running the following:\n",
    "\n",
    "    bottleneck_features = np.load('bottleneck_features/Dog{network}Data.npz')\n",
    "    train_{network} = bottleneck_features['train']\n",
    "    valid_{network} = bottleneck_features['valid']\n",
    "    test_{network} = bottleneck_features['test']"
   ]
  },
  {
   "cell_type": "code",
   "execution_count": 206,
   "metadata": {},
   "outputs": [
    {
     "name": "stdout",
     "output_type": "stream",
     "text": [
      "(6680, 1, 1, 2048)\n"
     ]
    }
   ],
   "source": [
    "### TODO: Obtain bottleneck features from another pre-trained CNN.\n",
    "bottleneck_features = np.load('bottleneck_features/DogResnet50Data.npz')\n",
    "train_resnet50 = bottleneck_features['train']\n",
    "valid_resnet50 = bottleneck_features['valid']\n",
    "test_resnet50 = bottleneck_features['test']\n",
    "print(train_resnet50.shape)"
   ]
  },
  {
   "cell_type": "markdown",
   "metadata": {},
   "source": [
    "### (IMPLEMENTATION) Model Architecture\n",
    "\n",
    "Create a CNN to classify dog breed.  At the end of your code cell block, summarize the layers of your model by executing the line:\n",
    "    \n",
    "        <your model's name>.summary()\n",
    "   \n",
    "__Question 5:__ Outline the steps you took to get to your final CNN architecture and your reasoning at each step.  Describe why you think the architecture is suitable for the current problem.\n",
    "\n",
    "__Answer:__ \n",
    "\n"
   ]
  },
  {
   "cell_type": "code",
   "execution_count": 209,
   "metadata": {},
   "outputs": [
    {
     "name": "stdout",
     "output_type": "stream",
     "text": [
      "_________________________________________________________________\n",
      "Layer (type)                 Output Shape              Param #   \n",
      "=================================================================\n",
      "global_average_pooling2d_20  (None, 2048)              0         \n",
      "_________________________________________________________________\n",
      "dense_29 (Dense)             (None, 133)               272517    \n",
      "_________________________________________________________________\n",
      "dropout_17 (Dropout)         (None, 133)               0         \n",
      "=================================================================\n",
      "Total params: 272,517\n",
      "Trainable params: 272,517\n",
      "Non-trainable params: 0\n",
      "_________________________________________________________________\n"
     ]
    }
   ],
   "source": [
    "resnet50_model = Sequential()\n",
    "resnet50_model.add(GlobalAveragePooling2D(input_shape=train_resnet50.shape[1:]))\n",
    "resnet50_model.add(Dense(133, activation='softmax'))\n",
    "resnet50_model.add(Dropout(0.3))\n",
    "resnet50_model.summary()"
   ]
  },
  {
   "cell_type": "markdown",
   "metadata": {},
   "source": [
    "### (IMPLEMENTATION) Compile the Model"
   ]
  },
  {
   "cell_type": "code",
   "execution_count": 210,
   "metadata": {},
   "outputs": [],
   "source": [
    "resnet50_model.compile(loss='categorical_crossentropy', optimizer='rmsprop', metrics=['accuracy'])"
   ]
  },
  {
   "cell_type": "markdown",
   "metadata": {},
   "source": [
    "### (IMPLEMENTATION) Train the Model\n",
    "\n",
    "Train your model in the code cell below.  Use model checkpointing to save the model that attains the best validation loss.  \n",
    "\n",
    "You are welcome to [augment the training data](https://blog.keras.io/building-powerful-image-classification-models-using-very-little-data.html), but this is not a requirement. "
   ]
  },
  {
   "cell_type": "code",
   "execution_count": 211,
   "metadata": {},
   "outputs": [
    {
     "name": "stdout",
     "output_type": "stream",
     "text": [
      "Train on 6680 samples, validate on 835 samples\n",
      "Epoch 1/20\n",
      "6680/6680 [==============================] - 22s 3ms/step - loss: 6.1848 - acc: 0.4036 - val_loss: 1.0235 - val_acc: 0.6850\n",
      "\n",
      "Epoch 00001: val_loss improved from inf to 1.02351, saving model to saved_models/weights.best.model_resnet50.hdf5\n",
      "Epoch 2/20\n",
      "6680/6680 [==============================] - 5s 704us/step - loss: 5.1304 - acc: 0.5958 - val_loss: 0.8171 - val_acc: 0.7461\n",
      "\n",
      "Epoch 00002: val_loss improved from 1.02351 to 0.81712, saving model to saved_models/weights.best.model_resnet50.hdf5\n",
      "Epoch 3/20\n",
      "6680/6680 [==============================] - 5s 697us/step - loss: 4.9912 - acc: 0.6281 - val_loss: 0.7681 - val_acc: 0.7593\n",
      "\n",
      "Epoch 00003: val_loss improved from 0.81712 to 0.76809, saving model to saved_models/weights.best.model_resnet50.hdf5\n",
      "Epoch 4/20\n",
      "6680/6680 [==============================] - 5s 696us/step - loss: 5.1718 - acc: 0.6370 - val_loss: 0.7433 - val_acc: 0.7808\n",
      "\n",
      "Epoch 00004: val_loss improved from 0.76809 to 0.74330, saving model to saved_models/weights.best.model_resnet50.hdf5\n",
      "Epoch 5/20\n",
      "6680/6680 [==============================] - 5s 698us/step - loss: 4.9789 - acc: 0.6561 - val_loss: 0.7080 - val_acc: 0.7904\n",
      "\n",
      "Epoch 00005: val_loss improved from 0.74330 to 0.70797, saving model to saved_models/weights.best.model_resnet50.hdf5\n",
      "Epoch 6/20\n",
      "6680/6680 [==============================] - 5s 697us/step - loss: 4.9149 - acc: 0.6656 - val_loss: 0.7851 - val_acc: 0.7820\n",
      "\n",
      "Epoch 00006: val_loss did not improve from 0.70797\n",
      "Epoch 7/20\n",
      "6680/6680 [==============================] - 5s 719us/step - loss: 4.9088 - acc: 0.6698 - val_loss: 0.7896 - val_acc: 0.8012\n",
      "\n",
      "Epoch 00007: val_loss did not improve from 0.70797\n",
      "Epoch 8/20\n",
      "6680/6680 [==============================] - 5s 699us/step - loss: 4.9973 - acc: 0.6692 - val_loss: 0.7480 - val_acc: 0.7964\n",
      "\n",
      "Epoch 00008: val_loss did not improve from 0.70797\n",
      "Epoch 9/20\n",
      "6680/6680 [==============================] - 5s 790us/step - loss: 4.8990 - acc: 0.6769 - val_loss: 0.7276 - val_acc: 0.8192\n",
      "\n",
      "Epoch 00009: val_loss did not improve from 0.70797\n",
      "Epoch 10/20\n",
      "6680/6680 [==============================] - 5s 701us/step - loss: 4.9280 - acc: 0.6790 - val_loss: 0.6852 - val_acc: 0.8192\n",
      "\n",
      "Epoch 00010: val_loss improved from 0.70797 to 0.68518, saving model to saved_models/weights.best.model_resnet50.hdf5\n",
      "Epoch 11/20\n",
      "6680/6680 [==============================] - 5s 703us/step - loss: 4.8583 - acc: 0.6828 - val_loss: 0.7503 - val_acc: 0.8144\n",
      "\n",
      "Epoch 00011: val_loss did not improve from 0.68518\n",
      "Epoch 12/20\n",
      "6680/6680 [==============================] - 5s 691us/step - loss: 4.8121 - acc: 0.6883 - val_loss: 0.8474 - val_acc: 0.8012\n",
      "\n",
      "Epoch 00012: val_loss did not improve from 0.68518\n",
      "Epoch 13/20\n",
      "6680/6680 [==============================] - 5s 707us/step - loss: 4.9751 - acc: 0.6796 - val_loss: 0.6829 - val_acc: 0.8287\n",
      "\n",
      "Epoch 00013: val_loss improved from 0.68518 to 0.68291, saving model to saved_models/weights.best.model_resnet50.hdf5\n",
      "Epoch 14/20\n",
      "6680/6680 [==============================] - 5s 740us/step - loss: 4.8483 - acc: 0.6897 - val_loss: 0.7595 - val_acc: 0.8228\n",
      "\n",
      "Epoch 00014: val_loss did not improve from 0.68291\n",
      "Epoch 15/20\n",
      "6680/6680 [==============================] - 5s 690us/step - loss: 4.9883 - acc: 0.6816 - val_loss: 0.7712 - val_acc: 0.8192\n",
      "\n",
      "Epoch 00015: val_loss did not improve from 0.68291\n",
      "Epoch 16/20\n",
      "6680/6680 [==============================] - 5s 676us/step - loss: 4.7796 - acc: 0.6966 - val_loss: 0.7578 - val_acc: 0.8311\n",
      "\n",
      "Epoch 00016: val_loss did not improve from 0.68291\n",
      "Epoch 17/20\n",
      "6680/6680 [==============================] - 5s 688us/step - loss: 4.9942 - acc: 0.6826 - val_loss: 0.7824 - val_acc: 0.8204\n",
      "\n",
      "Epoch 00017: val_loss did not improve from 0.68291\n",
      "Epoch 18/20\n",
      "6680/6680 [==============================] - 5s 688us/step - loss: 4.7560 - acc: 0.6984 - val_loss: 0.7954 - val_acc: 0.8275\n",
      "\n",
      "Epoch 00018: val_loss did not improve from 0.68291\n",
      "Epoch 19/20\n",
      "6680/6680 [==============================] - 5s 682us/step - loss: 4.8309 - acc: 0.6948 - val_loss: 0.8622 - val_acc: 0.8144\n",
      "\n",
      "Epoch 00019: val_loss did not improve from 0.68291\n",
      "Epoch 20/20\n",
      "6680/6680 [==============================] - 5s 685us/step - loss: 4.8277 - acc: 0.6954 - val_loss: 0.7997 - val_acc: 0.8263\n",
      "\n",
      "Epoch 00020: val_loss did not improve from 0.68291\n"
     ]
    },
    {
     "data": {
      "text/plain": [
       "<keras.callbacks.History at 0x7fd6946db320>"
      ]
     },
     "execution_count": 211,
     "metadata": {},
     "output_type": "execute_result"
    }
   ],
   "source": [
    "checkpointer = ModelCheckpoint(filepath='saved_models/weights.best.model_resnet50.hdf5', \n",
    "                               verbose=1, save_best_only=True)\n",
    "\n",
    "resnet50_model.fit(train_resnet50, train_targets, \n",
    "          validation_data=(valid_resnet50, valid_targets),\n",
    "          epochs=20, batch_size=20, callbacks=[checkpointer], verbose=1)"
   ]
  },
  {
   "cell_type": "markdown",
   "metadata": {},
   "source": [
    "### (IMPLEMENTATION) Load the Model with the Best Validation Loss"
   ]
  },
  {
   "cell_type": "code",
   "execution_count": 216,
   "metadata": {},
   "outputs": [],
   "source": [
    "resnet50_model.load_weights('saved_models/weights.best.model_resnet50.hdf5')"
   ]
  },
  {
   "cell_type": "markdown",
   "metadata": {},
   "source": [
    "### (IMPLEMENTATION) Test the Model\n",
    "\n",
    "Try out your model on the test dataset of dog images. Ensure that your test accuracy is greater than 60%."
   ]
  },
  {
   "cell_type": "code",
   "execution_count": 217,
   "metadata": {},
   "outputs": [
    {
     "name": "stdout",
     "output_type": "stream",
     "text": [
      "Test accuracy: 81.4593%\n"
     ]
    }
   ],
   "source": [
    "# get index of predicted dog breed for each image in test set\n",
    "resnet50_predictions = [np.argmax(resnet50_model.predict(np.expand_dims(feature, axis=0))) for feature in test_resnet50]\n",
    "\n",
    "# report test accuracy\n",
    "test_accuracy = 100*np.sum(np.array(resnet50_predictions)==np.argmax(test_targets, axis=1))/len(resnet50_predictions)\n",
    "print('Test accuracy: %.4f%%' % test_accuracy)"
   ]
  },
  {
   "cell_type": "markdown",
   "metadata": {},
   "source": [
    "### (IMPLEMENTATION) Predict Dog Breed with the Model\n",
    "\n",
    "Write a function that takes an image path as input and returns the dog breed (`Affenpinscher`, `Afghan_hound`, etc) that is predicted by your model.  \n",
    "\n",
    "Similar to the analogous function in Step 5, your function should have three steps:\n",
    "1. Extract the bottleneck features corresponding to the chosen CNN model.\n",
    "2. Supply the bottleneck features as input to the model to return the predicted vector.  Note that the argmax of this prediction vector gives the index of the predicted dog breed.\n",
    "3. Use the `dog_names` array defined in Step 0 of this notebook to return the corresponding breed.\n",
    "\n",
    "The functions to extract the bottleneck features can be found in `extract_bottleneck_features.py`, and they have been imported in an earlier code cell.  To obtain the bottleneck features corresponding to your chosen CNN architecture, you need to use the function\n",
    "\n",
    "    extract_{network}\n",
    "    \n",
    "where `{network}`, in the above filename, should be one of `VGG19`, `Resnet50`, `InceptionV3`, or `Xception`."
   ]
  },
  {
   "cell_type": "code",
   "execution_count": 218,
   "metadata": {},
   "outputs": [],
   "source": [
    "### TODO: Write a function that takes a path to an image as input\n",
    "### and returns the dog breed that is predicted by the model.\n",
    "\n",
    "from extract_bottleneck_features import *\n",
    "\n",
    "def resnet50_predict_breed(img_path):\n",
    "    # extract bottleneck features\n",
    "    bottleneck_feature = extract_Resnet50(path_to_tensor(img_path))\n",
    "    # obtain predicted vector\n",
    "    predicted_vector = resnet50_model.predict(bottleneck_feature)[0]\n",
    "    # predicted_vector = resnet50_model.predict(bottleneck_feature)\n",
    "    # return dog breed that is predicted by the model\n",
    "    return dog_names[np.argmax(predicted_vector)]"
   ]
  },
  {
   "cell_type": "markdown",
   "metadata": {},
   "source": [
    "---\n",
    "<a id='step6'></a>\n",
    "## Step 6: Write your Algorithm\n",
    "\n",
    "Write an algorithm that accepts a file path to an image and first determines whether the image contains a human, dog, or neither.  Then,\n",
    "- if a __dog__ is detected in the image, return the predicted breed.\n",
    "- if a __human__ is detected in the image, return the resembling dog breed.\n",
    "- if __neither__ is detected in the image, provide output that indicates an error.\n",
    "\n",
    "You are welcome to write your own functions for detecting humans and dogs in images, but feel free to use the `face_detector` and `dog_detector` functions developed above.  You are __required__ to use your CNN from Step 5 to predict dog breed.  \n",
    "\n",
    "Some sample output for our algorithm is provided below, but feel free to design your own user experience!\n",
    "\n",
    "![Sample Human Output](images/sample_human_output.png)\n",
    "\n",
    "\n",
    "### (IMPLEMENTATION) Write your Algorithm"
   ]
  },
  {
   "cell_type": "code",
   "execution_count": 219,
   "metadata": {},
   "outputs": [],
   "source": [
    "### TODO: Write your algorithm.\n",
    "import matplotlib.image as mpimg\n",
    "\n",
    "def check_dog_breed(img_path):\n",
    "    _, ax = plt.subplots()\n",
    "    if dog_detector(img_path):\n",
    "        print(\"It is a dog!\")\n",
    "        img = mpimg.imread(img_path)\n",
    "        _ = ax.imshow(img)\n",
    "        # Beautify\n",
    "        ax.tick_params(axis=\"both\", which=\"both\",length=0)\n",
    "        plt.show()\n",
    "        names, percentages = resnet50_predict_breed(img_path)\n",
    "        resemblance = \"\"\n",
    "        for name, pct in zip(names, percentages):\n",
    "            resemblance += f\"\\n{name} ({pct:.4} %)\"\n",
    "        print(f\"This dog seems to be {resemblance}\")\n",
    "    elif face_detector(img_path):\n",
    "        print(\"This is a human!\")\n",
    "        img = mpimg.imread(img_path)\n",
    "        _ = ax.imshow(img)        \n",
    "        # Beautify\n",
    "        ax.tick_params(axis=\"both\", which=\"both\",length=0)\n",
    "        plt.show()\n",
    "        names, percentages = resnet50_predict_breed(img_path)\n",
    "        resemblance = \"\"\n",
    "        for name, pct in zip(names, percentages):\n",
    "            resemblance += f\"\\n{name} ({pct:.4} %)\"\n",
    "        print(f\"This human seems to be {resemblance}\")\n",
    "    else:\n",
    "        print(\"Not human nor dog!\")\n",
    "        img = mpimg.imread(img_path)\n",
    "        _ = ax.imshow(img)        \n",
    "        # Beautify\n",
    "        ax.tick_params(axis=\"both\", which=\"both\",length=0)\n",
    "        plt.show()\n",
    "        print(\"Not human nor dog, not planning to predict what's that!\")\n",
    "        \n",
    "    print(\"\\n\"*3)"
   ]
  },
  {
   "cell_type": "markdown",
   "metadata": {},
   "source": [
    "---\n",
    "<a id='step7'></a>\n",
    "## Step 7: Test Your Algorithm\n",
    "\n",
    "In this section, you will take your new algorithm for a spin!  What kind of dog does the algorithm think that __you__ look like?  If you have a dog, does it predict your dog's breed accurately?  If you have a cat, does it mistakenly think that your cat is a dog?\n",
    "\n",
    "### (IMPLEMENTATION) Test Your Algorithm on Sample Images!\n",
    "\n",
    "Test your algorithm at least six images on your computer.  Feel free to use any images you like.  Use at least two human and two dog images.  \n",
    "\n",
    "__Question 6:__ Is the output better than you expected :) ?  Or worse :( ?  Provide at least three possible points of improvement for your algorithm.\n",
    "\n",
    "__Answer:__ "
   ]
  },
  {
   "cell_type": "code",
   "execution_count": 236,
   "metadata": {},
   "outputs": [],
   "source": [
    "### Note it was done offline"
   ]
  }
 ],
 "metadata": {
  "anaconda-cloud": {},
  "kernelspec": {
   "display_name": "Python 3",
   "language": "python",
   "name": "python3"
  },
  "language_info": {
   "codemirror_mode": {
    "name": "ipython",
    "version": 3
   },
   "file_extension": ".py",
   "mimetype": "text/x-python",
   "name": "python",
   "nbconvert_exporter": "python",
   "pygments_lexer": "ipython3",
   "version": "3.7.0"
  }
 },
 "nbformat": 4,
 "nbformat_minor": 1
}
